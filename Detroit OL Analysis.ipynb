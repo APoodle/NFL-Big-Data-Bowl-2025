{
 "cells": [
  {
   "cell_type": "markdown",
   "id": "dd7afbff",
   "metadata": {
    "papermill": {
     "duration": 0.002739,
     "end_time": "2024-12-12T23:49:56.119596",
     "exception": false,
     "start_time": "2024-12-12T23:49:56.116857",
     "status": "completed"
    },
    "tags": []
   },
   "source": [
    "# <center>The Detroit Offensive Linemen</center>\n",
    "<img style='margin:auto; width:300px;' src='https://upload.wikimedia.org/wikipedia/commons/thumb/9/9d/Penei_Sewell_%2852480402764%29_%28cropped%29.jpg/640px-Penei_Sewell_%2852480402764%29_%28cropped%29.jpg' />"
   ]
  },
  {
   "cell_type": "code",
   "execution_count": 1,
   "id": "0e67c9d6",
   "metadata": {
    "_cell_guid": "b1076dfc-b9ad-4769-8c92-a6c4dae69d19",
    "_uuid": "8f2839f25d086af736a60e9eeb907d3b93b6e0e5",
    "collapsed": true,
    "execution": {
     "iopub.execute_input": "2024-12-12T23:49:56.125480Z",
     "iopub.status.busy": "2024-12-12T23:49:56.125023Z",
     "iopub.status.idle": "2024-12-12T23:49:57.134460Z",
     "shell.execute_reply": "2024-12-12T23:49:57.133237Z"
    },
    "jupyter": {
     "outputs_hidden": true,
     "source_hidden": true
    },
    "papermill": {
     "duration": 1.015271,
     "end_time": "2024-12-12T23:49:57.137133",
     "exception": false,
     "start_time": "2024-12-12T23:49:56.121862",
     "status": "completed"
    },
    "tags": []
   },
   "outputs": [
    {
     "name": "stdout",
     "output_type": "stream",
     "text": [
      "/kaggle/input/nfl-big-data-bowl-2025/players.csv\n",
      "/kaggle/input/nfl-big-data-bowl-2025/tracking_week_7.csv\n",
      "/kaggle/input/nfl-big-data-bowl-2025/tracking_week_9.csv\n",
      "/kaggle/input/nfl-big-data-bowl-2025/tracking_week_6.csv\n",
      "/kaggle/input/nfl-big-data-bowl-2025/games.csv\n",
      "/kaggle/input/nfl-big-data-bowl-2025/tracking_week_8.csv\n",
      "/kaggle/input/nfl-big-data-bowl-2025/player_play.csv\n",
      "/kaggle/input/nfl-big-data-bowl-2025/tracking_week_4.csv\n",
      "/kaggle/input/nfl-big-data-bowl-2025/tracking_week_3.csv\n",
      "/kaggle/input/nfl-big-data-bowl-2025/tracking_week_5.csv\n",
      "/kaggle/input/nfl-big-data-bowl-2025/tracking_week_1.csv\n",
      "/kaggle/input/nfl-big-data-bowl-2025/plays.csv\n",
      "/kaggle/input/nfl-big-data-bowl-2025/tracking_week_2.csv\n"
     ]
    }
   ],
   "source": [
    "import numpy as np # linear algebra\n",
    "import pandas as pd # data processing, CSV file I/O (e.g. pd.read_csv)\n",
    "\n",
    "import os\n",
    "for dirname, _, filenames in os.walk('/kaggle/input'):\n",
    "    for filename in filenames:\n",
    "        print(os.path.join(dirname, filename))"
   ]
  },
  {
   "cell_type": "markdown",
   "id": "a8e20dbf",
   "metadata": {
    "papermill": {
     "duration": 0.001585,
     "end_time": "2024-12-12T23:49:57.141025",
     "exception": false,
     "start_time": "2024-12-12T23:49:57.139440",
     "status": "completed"
    },
    "tags": []
   },
   "source": [
    "# <center>Overview</center>"
   ]
  },
  {
   "cell_type": "markdown",
   "id": "b76a12c6",
   "metadata": {
    "papermill": {
     "duration": 0.001524,
     "end_time": "2024-12-12T23:49:57.144377",
     "exception": false,
     "start_time": "2024-12-12T23:49:57.142853",
     "status": "completed"
    },
    "tags": []
   },
   "source": [
    "### The main objective of this notebook is to analyze how the offensive linemen can help us predict whether the play is going to be a run or a pass play. We will need to overlap this with formation of the offense to see more valuable insights (an empty formation is almost certainly a pass play)"
   ]
  }
 ],
 "metadata": {
  "kaggle": {
   "accelerator": "none",
   "dataSources": [
    {
     "databundleVersionId": 9816926,
     "sourceId": 84175,
     "sourceType": "competition"
    }
   ],
   "dockerImageVersionId": 30804,
   "isGpuEnabled": false,
   "isInternetEnabled": true,
   "language": "python",
   "sourceType": "notebook"
  },
  "kernelspec": {
   "display_name": "Python 3",
   "language": "python",
   "name": "python3"
  },
  "language_info": {
   "codemirror_mode": {
    "name": "ipython",
    "version": 3
   },
   "file_extension": ".py",
   "mimetype": "text/x-python",
   "name": "python",
   "nbconvert_exporter": "python",
   "pygments_lexer": "ipython3",
   "version": "3.10.14"
  },
  "papermill": {
   "default_parameters": {},
   "duration": 4.430326,
   "end_time": "2024-12-12T23:49:57.668826",
   "environment_variables": {},
   "exception": null,
   "input_path": "__notebook__.ipynb",
   "output_path": "__notebook__.ipynb",
   "parameters": {},
   "start_time": "2024-12-12T23:49:53.238500",
   "version": "2.6.0"
  }
 },
 "nbformat": 4,
 "nbformat_minor": 5
}
